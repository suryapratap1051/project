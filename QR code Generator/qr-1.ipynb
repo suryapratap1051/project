{
 "cells": [
  {
   "cell_type": "code",
   "execution_count": 1,
   "id": "9872397a",
   "metadata": {},
   "outputs": [
    {
     "name": "stdout",
     "output_type": "stream",
     "text": [
      "Collecting qrcodeNote: you may need to restart the kernel to use updated packages.\n",
      "\n",
      "  Downloading qrcode-7.4.2-py3-none-any.whl (46 kB)\n",
      "     ---------------------------------------- 46.2/46.2 kB 2.4 MB/s eta 0:00:00\n",
      "Collecting pypng\n",
      "  Downloading pypng-0.20220715.0-py3-none-any.whl (58 kB)\n",
      "     ---------------------------------------- 58.1/58.1 kB 3.0 MB/s eta 0:00:00\n",
      "Requirement already satisfied: typing-extensions in c:\\users\\surya\\anaconda3\\lib\\site-packages (from qrcode) (4.4.0)\n",
      "Requirement already satisfied: colorama in c:\\users\\surya\\anaconda3\\lib\\site-packages (from qrcode) (0.4.6)\n",
      "Installing collected packages: pypng, qrcode\n",
      "Successfully installed pypng-0.20220715.0 qrcode-7.4.2\n"
     ]
    }
   ],
   "source": [
    "pip install qrcode\n"
   ]
  },
  {
   "cell_type": "code",
   "execution_count": 2,
   "id": "df5bcb22",
   "metadata": {},
   "outputs": [],
   "source": [
    "import qrcode as qr"
   ]
  },
  {
   "cell_type": "code",
   "execution_count": 3,
   "id": "fb1cc64d",
   "metadata": {},
   "outputs": [],
   "source": [
    "img=qr.make(\"https://sites.google.com/view/suryapratap1/\")"
   ]
  },
  {
   "cell_type": "code",
   "execution_count": 4,
   "id": "f7b83ee1",
   "metadata": {},
   "outputs": [],
   "source": [
    "img.save(\"surya_portfolio.png\")"
   ]
  },
  {
   "cell_type": "code",
   "execution_count": null,
   "id": "a17529a0",
   "metadata": {},
   "outputs": [],
   "source": []
  }
 ],
 "metadata": {
  "kernelspec": {
   "display_name": "Python 3 (ipykernel)",
   "language": "python",
   "name": "python3"
  },
  "language_info": {
   "codemirror_mode": {
    "name": "ipython",
    "version": 3
   },
   "file_extension": ".py",
   "mimetype": "text/x-python",
   "name": "python",
   "nbconvert_exporter": "python",
   "pygments_lexer": "ipython3",
   "version": "3.10.9"
  }
 },
 "nbformat": 4,
 "nbformat_minor": 5
}
