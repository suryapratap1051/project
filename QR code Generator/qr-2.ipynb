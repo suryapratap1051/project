{
 "cells": [
  {
   "cell_type": "code",
   "execution_count": 9,
   "id": "3e4c3f17",
   "metadata": {},
   "outputs": [],
   "source": [
    "import qrcode as qr"
   ]
  },
  {
   "cell_type": "code",
   "execution_count": 10,
   "id": "7ea94d24",
   "metadata": {},
   "outputs": [],
   "source": [
    "from PIL import Image"
   ]
  },
  {
   "cell_type": "code",
   "execution_count": 14,
   "id": "3cff3200",
   "metadata": {},
   "outputs": [],
   "source": [
    "wr=qr.QRCode(version=1,error_correction=qr.constants.ERROR_CORRECT_H,\n",
    "            box_size=10,border=4,)"
   ]
  },
  {
   "cell_type": "code",
   "execution_count": 15,
   "id": "66faaf96",
   "metadata": {},
   "outputs": [],
   "source": [
    "wr.add_data(\"https://sites.google.com/view/suryapratap1/\")"
   ]
  },
  {
   "cell_type": "code",
   "execution_count": 16,
   "id": "79efd9d7",
   "metadata": {},
   "outputs": [],
   "source": [
    "wr.make(fit=True)"
   ]
  },
  {
   "cell_type": "code",
   "execution_count": 17,
   "id": "14845d13",
   "metadata": {},
   "outputs": [],
   "source": [
    "img=wr.make_image(fill_color=\"red\",back_color=\"blue\")"
   ]
  },
  {
   "cell_type": "code",
   "execution_count": 18,
   "id": "893303e7",
   "metadata": {},
   "outputs": [],
   "source": [
    "img.save(\"surya_wabpage.png\")"
   ]
  },
  {
   "cell_type": "code",
   "execution_count": null,
   "id": "ef867c12",
   "metadata": {},
   "outputs": [],
   "source": []
  }
 ],
 "metadata": {
  "kernelspec": {
   "display_name": "Python 3 (ipykernel)",
   "language": "python",
   "name": "python3"
  },
  "language_info": {
   "codemirror_mode": {
    "name": "ipython",
    "version": 3
   },
   "file_extension": ".py",
   "mimetype": "text/x-python",
   "name": "python",
   "nbconvert_exporter": "python",
   "pygments_lexer": "ipython3",
   "version": "3.10.9"
  }
 },
 "nbformat": 4,
 "nbformat_minor": 5
}
